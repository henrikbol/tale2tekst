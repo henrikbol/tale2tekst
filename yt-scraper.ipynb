{
 "cells": [
  {
   "cell_type": "code",
   "execution_count": 1,
   "metadata": {},
   "outputs": [],
   "source": [
    "import pytube\n",
    "import whisper\n",
    "import pickle\n",
    "import time"
   ]
  },
  {
   "cell_type": "code",
   "execution_count": 2,
   "metadata": {},
   "outputs": [
    {
     "data": {
      "text/plain": [
       "'/Users/henrikbolarsen/projects/whisper/Stor forskel på TV Avisens værter for 50 år siden og nu - TV Avisen.mp4'"
      ]
     },
     "execution_count": 2,
     "metadata": {},
     "output_type": "execute_result"
    }
   ],
   "source": [
    "video = 'https://www.youtube.com/watch?v=uRU_QWNl2vY'\n",
    "data = pytube.YouTube(video)\n",
    "\n",
    "audio = data.streams.get_audio_only()\n",
    "audio.download()"
   ]
  },
  {
   "cell_type": "code",
   "execution_count": 3,
   "metadata": {},
   "outputs": [],
   "source": [
    "model = whisper.load_model(\"large\")"
   ]
  },
  {
   "cell_type": "code",
   "execution_count": 4,
   "metadata": {},
   "outputs": [
    {
     "name": "stderr",
     "output_type": "stream",
     "text": [
      "/opt/homebrew/Caskroom/miniforge/base/envs/whisper/lib/python3.9/site-packages/whisper/transcribe.py:78: UserWarning: FP16 is not supported on CPU; using FP32 instead\n",
      "  warnings.warn(\"FP16 is not supported on CPU; using FP32 instead\")\n"
     ]
    },
    {
     "name": "stdout",
     "output_type": "stream",
     "text": [
      "Detected language: Danish\n"
     ]
    },
    {
     "name": "stderr",
     "output_type": "stream",
     "text": [
      "100%|███████████████████████████████████████████████████████████████████████████████████████████████████████████████████████████████| 13518/13518 [05:04<00:00, 44.33frames/s]\n"
     ]
    }
   ],
   "source": [
    "result = model.transcribe(audio.get_file_path(), verbose=False)\n",
    "\n",
    "with open(f'{audio.title}.pkl', 'wb') as handle:\n",
    "    pickle.dump(result, handle, protocol=pickle.HIGHEST_PROTOCOL)\n"
   ]
  },
  {
   "cell_type": "code",
   "execution_count": 5,
   "metadata": {},
   "outputs": [
    {
     "name": "stdout",
     "output_type": "stream",
     "text": [
      "Language: Danish\n",
      "[00:00->00:13]: Man skal være usidvænlig uskarp, hvis man ikke kan se, at nyhedsværdene har ændret sig de seneste 50 år.\n",
      "[00:13->00:15]: Godaften og velkommen til TV-Avisen.\n",
      "[00:15->00:16]: Godaften.\n",
      "[00:16->00:18]: Godaften, så er der TV-Avisen.\n",
      "[00:18->00:19]: Nyderne er stadigvæk til centraliske.\n",
      "[00:19->00:22]: Først og fremmest taler de forskelligt.\n",
      "[00:22->00:23]: Godaften.\n",
      "[00:23->00:25]: Meget pænt godaften.\n",
      "[00:25->00:28]: Ja, det er det. Men vores sprog var jo godt.\n",
      "[00:28->00:32]: Godaften. Det er nok det nærmeste. Det lyder omsvagt, ikke?\n",
      "[00:32->00:33]: Det lyder dumt.\n",
      "[00:33->00:34]: De talte jo meget tydeligere end jer.\n",
      "[00:34->00:36]: Ja, det er nok rigtigt.\n",
      "[00:36->00:45]: Vi gik jo til taletræning, og vi lavede sprog- og halsøvelser, inden vi gik på.\n",
      "[00:45->00:50]: På den måde var det også ligesom på så mange andre måder end en helt anden verden.\n",
      "[00:50->00:53]: Kår Kvester bliver gett majster i nyhedsværdere i hver sin tid.\n",
      "[00:53->00:57]: Han lige nu, og hun fra dengang i 70'erne og 80'erne.\n",
      "[00:57->01:00]: Jeg var en af de første kvinder, der læste tv-visen op.\n",
      "[01:00->01:04]: Og dengang sagde man jo, at man ikke kan lade en kvinde læse nyheder op.\n",
      "[01:04->01:08]: Det er alt for alvorligt og seriøst. Det kommer der ikke nogen mennesker til at tro på.\n",
      "[01:08->01:14]: Ser man på nyhedsværderne gennem tiden, vil man også bemærke, at de ikke bevægede sig så meget dengang.\n",
      "[01:14->01:18]: De sidder ned. Det er roligt, og det er mere langsomt.\n",
      "[01:18->01:24]: Og man venter lidt på, hvad har verden, altså Birgit her, mundt til mig i dag.\n",
      "[01:24->01:27]: Hvor var jeg heldig, at jeg fik lov at sidde ned.\n",
      "[01:27->01:33]: Jeg tænker faktisk ofte over det, at alle de steglige mennesker, der skal stå op og være med i programmerne,\n",
      "[01:33->01:37]: de skal stå og stå og stå. Og man kan blive helt træt på deres vegne.\n",
      "[01:37->01:42]: Og de skal også gå. Og de skal gå, ja. Gå kan der gå, ikke?\n",
      "[01:42->01:49]: Hvis Birgit Majster skulle skabe ekstra opmærksomhed, så plejede hun blot at læne sig en anelse frem mod kameraet.\n",
      "[01:49->01:54]: Det var nok i virkeligheden en vane, ikke? Men det handlede også om, hvis jeg skal prøve at se tilbage på det,\n",
      "[01:54->02:02]: det handlede også om at komme ind og sige, det her, det er vigtigt. Og det er vigtigt for dig.\n",
      "[02:02->02:05]: Så er det, man tænker. Hun har det stadig i sig.\n",
      "[02:05->02:11]: Forestil dig, at du pludselig sad i vores nye studie med alle mulige ting. Hvordan ville det være?\n",
      "[02:11->02:19]: Jeg tror, det ville være det samme. Jeg ved det ikke.\n"
     ]
    }
   ],
   "source": [
    "def format_seconds(seconds: float) -> str:\n",
    "    return time.strftime(\"%M:%S\",time.gmtime(round(seconds)))\n",
    "\n",
    "print(f'Language: {whisper.tokenizer.LANGUAGES[result[\"language\"]].title()}')\n",
    "\n",
    "for segments in result[\"segments\"]:\n",
    "    print(f'[{format_seconds(segments[\"start\"])}->{format_seconds(segments[\"end\"])}]:{segments[\"text\"]}')"
   ]
  },
  {
   "cell_type": "code",
   "execution_count": null,
   "metadata": {},
   "outputs": [],
   "source": []
  }
 ],
 "metadata": {
  "kernelspec": {
   "display_name": "Python [conda env:whisper] *",
   "language": "python",
   "name": "conda-env-whisper-py"
  },
  "language_info": {
   "codemirror_mode": {
    "name": "ipython",
    "version": 3
   },
   "file_extension": ".py",
   "mimetype": "text/x-python",
   "name": "python",
   "nbconvert_exporter": "python",
   "pygments_lexer": "ipython3",
   "version": "3.9.13"
  }
 },
 "nbformat": 4,
 "nbformat_minor": 1
}
