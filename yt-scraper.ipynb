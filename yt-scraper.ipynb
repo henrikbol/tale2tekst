{
 "cells": [
  {
   "cell_type": "code",
   "execution_count": 1,
   "metadata": {},
   "outputs": [],
   "source": [
    "import pytube\n",
    "import whisper\n",
    "import pickle\n",
    "import time"
   ]
  },
  {
   "cell_type": "code",
   "execution_count": 2,
   "metadata": {},
   "outputs": [
    {
     "data": {
      "text/plain": [
       "'/Users/henrikbolarsen/projects/whisper/Er en regering hen over midten en god idé  Debatten  DR2.mp4'"
      ]
     },
     "execution_count": 2,
     "metadata": {},
     "output_type": "execute_result"
    }
   ],
   "source": [
    "video = 'https://www.youtube.com/watch?v=IAlMjnTCVEc&t=33s'\n",
    "data = pytube.YouTube(video)\n",
    "\n",
    "audio = data.streams.get_audio_only()\n",
    "audio.download()"
   ]
  },
  {
   "cell_type": "code",
   "execution_count": 3,
   "metadata": {},
   "outputs": [],
   "source": [
    "model = whisper.load_model(\"large\")"
   ]
  },
  {
   "cell_type": "code",
   "execution_count": 4,
   "metadata": {},
   "outputs": [
    {
     "name": "stderr",
     "output_type": "stream",
     "text": [
      "/opt/homebrew/Caskroom/miniforge/base/envs/whisper/lib/python3.9/site-packages/whisper/transcribe.py:78: UserWarning: FP16 is not supported on CPU; using FP32 instead\n",
      "  warnings.warn(\"FP16 is not supported on CPU; using FP32 instead\")\n"
     ]
    },
    {
     "name": "stdout",
     "output_type": "stream",
     "text": [
      "Detected language: Danish\n"
     ]
    },
    {
     "name": "stderr",
     "output_type": "stream",
     "text": [
      "100%|███████████████████████████████████████████████████████████████████████████████████████████████████████████████████████████████| 18882/18882 [08:39<00:00, 36.36frames/s]\n"
     ]
    }
   ],
   "source": [
    "result = model.transcribe(audio.get_file_path(), verbose=False)\n",
    "\n",
    "with open(f'{audio.title}.pkl', 'wb') as handle:\n",
    "    pickle.dump(result, handle, protocol=pickle.HIGHEST_PROTOCOL)\n"
   ]
  },
  {
   "cell_type": "code",
   "execution_count": 5,
   "metadata": {},
   "outputs": [
    {
     "name": "stdout",
     "output_type": "stream",
     "text": [
      "Language: Danish\n",
      "[00:00->00:03]: Jeg er også lidt overrasket over, at Lars Løkke står på den her side i aften.\n",
      "[00:03->00:11]: Jeg tænkte egentlig på, at man skulle stå ved den ledige pult dernede, fordi når man hører ham, så lyder det jo mere som om, at du kommer til at pege på Mette Frederiksen.\n",
      "[00:11->00:12]: Men det er jo rent røv det der, Inger.\n",
      "[00:12->00:19]: Men det lyder jo utrolig rart, når man hører sådan noget radikal, altså både Lars Løkke-radikal og radikal og radikal.\n",
      "[00:19->00:21]: Det lyder alle tidersk.\n",
      "[00:21->00:24]: Men det er sådan lidt den drømmeverden på en eller anden måde.\n",
      "[00:24->00:25]: Det er ikke noget radikal eller radikaliseret.\n",
      "[00:25->00:30]: Jeg er også lidt overrasket over, at Lars Løkke står på den her side i aften.\n",
      "[00:30->00:37]: Jeg tænkte egentlig på, at man skulle stå ved den ledige pult dernede, fordi når man hører ham, så lyder det jo mere som om, at du kommer til at pege på Mette Frederiksen.\n",
      "[00:37->00:39]: Men det er jo rent røv det der, Inger.\n",
      "[00:39->00:46]: Altså hvis der er nogen, der har forsøgt at i talesat, at det her land er udfordret, så vil jeg gerne skrive mig op på den liste.\n",
      "[00:46->00:50]: Helt ærligt, det er et fantastisk land, vi lever i.\n",
      "[00:50->00:51]: Det bliver det ikke ved med at være.\n",
      "[00:51->00:58]: Jeg deler sådan set, eller statsministeren deler måske mine løs med forsikrelse, det skal vi ikke slå som coble-riden på, men statsministeren sagde nogle rigtige ting i dag.\n",
      "[00:58->01:00]: Det her kommer til at smuldre.\n",
      "[01:00->01:04]: Altså vores sundhedsvæsen er i bakker.\n",
      "[01:04->01:09]: Vi har tredjedelationsindvandrere, folk der er kommet til her, som ikke er fuldt inkluderet i vores samfund endnu.\n",
      "[01:09->01:11]: Vi har nogle kæmpe udfordringer.\n",
      "[01:11->01:13]: Og så er det jo ikke sådan noget at snakke om, at jeg er pludselig blevet en radikal.\n",
      "[01:13->01:17]: Altså jeg er grundlæggende det samme menneske, jeg har været hele livet, og jeg er heller ikke blevet en radikaliseret.\n",
      "[01:17->01:22]: Men jeg har bare opdaget, at vi er nødt til at samarbejde i dybden for at få lavet nogle forandringer.\n",
      "[01:22->01:24]: Jamen jeg ved snart ikke, hvad jeg skal sige til det.\n",
      "[01:24->01:31]: Fordi man kan jo sige, at det er jo sådan en lidt klassisk diskussion på en eller anden måde for Lars Lykke,\n",
      "[01:31->01:35]: det her hvor det hele er sådan noget med, at jeg peger ikke på nogen, jeg peger på noget og sådan noget.\n",
      "[01:35->01:38]: Og det er jo enormt svært at forstå, hvad betyder det egentlig.\n",
      "[01:38->01:44]: Altså det kan da godt være, at det er mig, der er lidt fadsfagende, men jeg har simpelthen ikke forstået, hvad det er, det betyder.\n",
      "[01:44->01:46]: Og hvor det egentlig er, at du peger...\n",
      "[01:46->01:50]: Du siger for Støjberg, at det lyder på dig som om, at Lykke lever i en drømmeverden.\n",
      "[01:50->01:51]: Jamen i hvert fald sådan en eller anden...\n",
      "[01:51->01:56]: Altså lad os nu sætte os ind i værkstedet og så prøve at se, om vi kan på en eller anden måde kreere et eller andet,\n",
      "[01:56->01:58]: der når lidt hen over midten.\n",
      "[01:58->02:01]: Støjberg siger, at hun ønsker en blå regering. Hun mener, at hun kunne få sine ønsker opfyldt der.\n",
      "[02:01->02:06]: Er det ikke pragmatisk og realistisk? Er det ikke rigtigt, at det er langt lidt, at der er for store forholdelser til?\n",
      "[02:06->02:07]: Jo jo.\n",
      "[02:07->02:08]: Helt sikkert, og stillestanden er altid godt.\n",
      "[02:08->02:18]: Og danskerne vil gerne forbedre, og de havde forandringer. Og det er jo der, ledelse kommer ind. Og jeg lever i en drømmeverden. Jeg tror på den danske drøm. Jeg tror på, at rigtig mange danskere går ind for det her land,\n",
      "[02:18->02:22]: hvor man faktisk bedre kan realisere den amerikanske drøm, end man kan i USA.\n",
      "[02:22->02:23]: Men det er ved at sande til.\n",
      "[02:23->02:28]: Min generation er den sidste generation, der har haft statsgaranti for at have en ekstrem social mobilitet.\n",
      "[02:28->02:30]: Det står stille derude.\n",
      "[02:30->02:36]: Nogen, der hylder velfærdsstaten, velfærdssamfundet Danmark, er nødt til at tage ansvar for at få strammet badonerne.\n",
      "[02:36->02:38]: Og det er ikke min position.\n",
      "[02:38->02:42]: Jamen, jeg ønsker jo ikke stillestand overhovedet. Jeg kan da se masser af ting, der skal laves om.\n",
      "[02:42->02:47]: For eksempel at flere indvandrer skal ind på arbejdsmarked, fordi du har da ikke at være i Danmark og så ikke bidrag.\n",
      "[02:47->02:53]: Så det kan jeg da sagtens se, og det kommer da til at kræve, for eksempel en skattereform, der sænker skatten i bunden, så det bliver mere kapitalistisk.\n",
      "[02:53->02:55]: Fordi der er alt for mange for, hvem der ikke kan betale sig.\n",
      "[02:55->03:09]: Hvis der var nogen af vores her, der havde glædet sig...\n"
     ]
    }
   ],
   "source": [
    "def format_seconds(seconds: float) -> str:\n",
    "    return time.strftime(\"%M:%S\",time.gmtime(round(seconds)))\n",
    "\n",
    "print(f'Language: {whisper.tokenizer.LANGUAGES[result[\"language\"]].title()}')\n",
    "\n",
    "for segments in result[\"segments\"]:\n",
    "    print(f'[{format_seconds(segments[\"start\"])}->{format_seconds(segments[\"end\"])}]:{segments[\"text\"]}')"
   ]
  },
  {
   "cell_type": "code",
   "execution_count": null,
   "metadata": {},
   "outputs": [],
   "source": []
  }
 ],
 "metadata": {
  "kernelspec": {
   "display_name": "Python [conda env:whisper] *",
   "language": "python",
   "name": "conda-env-whisper-py"
  },
  "language_info": {
   "codemirror_mode": {
    "name": "ipython",
    "version": 3
   },
   "file_extension": ".py",
   "mimetype": "text/x-python",
   "name": "python",
   "nbconvert_exporter": "python",
   "pygments_lexer": "ipython3",
   "version": "3.9.13"
  }
 },
 "nbformat": 4,
 "nbformat_minor": 1
}
